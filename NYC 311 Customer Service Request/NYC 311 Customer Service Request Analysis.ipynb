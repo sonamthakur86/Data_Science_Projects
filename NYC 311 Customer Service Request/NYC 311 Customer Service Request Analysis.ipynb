{
 "cells": [
  {
   "cell_type": "markdown",
   "id": "25169079",
   "metadata": {},
   "source": [
    "# NYC 311 Customer Service Request\n",
    "\n",
    "###  DESCRIPTION\n",
    "\n",
    "#### Background of Problem Statement :\n",
    "\n",
    "NYC 311's mission is to provide the public with quick and easy access to all New York City government services and information while offering the best customer service. Each day, NYC311 receives thousands of requests related to several hundred types of non-emergency services, including noise complaints, plumbing issues, and illegally parked cars. These requests are received by NYC311 and forwarded to the relevant agencies such as the police, buildings, or transportation. The agency responds to the request, addresses it, and then closes it.\n",
    "\n",
    "### Problem Objective :\n",
    "\n",
    "Perform a service request data analysis of New York City 311 calls. You will focus on the data wrangling techniques to understand the pattern in the data and also visualize the major complaint types.\n",
    "\n",
    "### Domain: Customer Service\n",
    "### Analysis Tasks to be performed:\n",
    "(Perform a service request data analysis of New York City 311 calls)\n",
    "\n",
    "### Import a 311 NYC service request.\n",
    "\n",
    "Read or convert the columns ‘Created Date’ and Closed Date’ to datetime datatype and create a new column ‘Request_Closing_Time’ as the time elapsed between request creation and request closing. (Hint: Explore the package/module datetime)\n",
    "\n",
    "Provide major insights/patterns that you can offer in a visual format (graphs or tables); at least 4 major conclusions that you can come up with after generic data mining.\n",
    "\n",
    "Order the complaint types based on the average ‘Request_Closing_Time’, grouping them for different locations. Perform a statistical test for the following:\n",
    "\n",
    "Please note: For the below statements you need to state the Null and Alternate and then provide a statistical test to accept or reject the Null Hypothesis along with the corresponding ‘p-value’.\n",
    "\n",
    "Whether the average response time across complaint types is similar or not (overall)\n",
    "\n",
    "Are the type of complaint or service requested and location related?"
   ]
  },
  {
   "cell_type": "markdown",
   "id": "b0110560",
   "metadata": {},
   "source": [
    "## 1.Import Libraries"
   ]
  },
  {
   "cell_type": "code",
   "execution_count": 2,
   "id": "59a08444",
   "metadata": {},
   "outputs": [],
   "source": [
    "import pandas as pd\n",
    "import numpy as np\n",
    "\n",
    "import matplotlib.pyplot as plt\n",
    "from matplotlib import style\n",
    "%matplotlib inline\n",
    "import seaborn as sns"
   ]
  },
  {
   "cell_type": "markdown",
   "id": "8f6e4546",
   "metadata": {},
   "source": [
    "## 2.Load Data"
   ]
  },
  {
   "cell_type": "code",
   "execution_count": 3,
   "id": "0e2b4785",
   "metadata": {},
   "outputs": [],
   "source": [
    "csr_df=pd.read_csv(\"311_Service_Requests_from_2010_to_Present.csv\",low_memory=False)"
   ]
  },
  {
   "cell_type": "markdown",
   "id": "9dc173f5",
   "metadata": {},
   "source": [
    "## 3.Basic Data Exploratory Analysis"
   ]
  },
  {
   "cell_type": "code",
   "execution_count": 4,
   "id": "da7895e5",
   "metadata": {},
   "outputs": [
    {
     "data": {
      "text/html": [
       "<div>\n",
       "<style scoped>\n",
       "    .dataframe tbody tr th:only-of-type {\n",
       "        vertical-align: middle;\n",
       "    }\n",
       "\n",
       "    .dataframe tbody tr th {\n",
       "        vertical-align: top;\n",
       "    }\n",
       "\n",
       "    .dataframe thead th {\n",
       "        text-align: right;\n",
       "    }\n",
       "</style>\n",
       "<table border=\"1\" class=\"dataframe\">\n",
       "  <thead>\n",
       "    <tr style=\"text-align: right;\">\n",
       "      <th></th>\n",
       "      <th>Unique Key</th>\n",
       "      <th>Created Date</th>\n",
       "      <th>Closed Date</th>\n",
       "      <th>Agency</th>\n",
       "      <th>Agency Name</th>\n",
       "      <th>Complaint Type</th>\n",
       "      <th>Descriptor</th>\n",
       "      <th>Location Type</th>\n",
       "      <th>Incident Zip</th>\n",
       "      <th>Incident Address</th>\n",
       "      <th>...</th>\n",
       "      <th>Bridge Highway Name</th>\n",
       "      <th>Bridge Highway Direction</th>\n",
       "      <th>Road Ramp</th>\n",
       "      <th>Bridge Highway Segment</th>\n",
       "      <th>Garage Lot Name</th>\n",
       "      <th>Ferry Direction</th>\n",
       "      <th>Ferry Terminal Name</th>\n",
       "      <th>Latitude</th>\n",
       "      <th>Longitude</th>\n",
       "      <th>Location</th>\n",
       "    </tr>\n",
       "  </thead>\n",
       "  <tbody>\n",
       "    <tr>\n",
       "      <th>0</th>\n",
       "      <td>32310363</td>\n",
       "      <td>12/31/2015 11:59:45 PM</td>\n",
       "      <td>01-01-16 0:55</td>\n",
       "      <td>NYPD</td>\n",
       "      <td>New York City Police Department</td>\n",
       "      <td>Noise - Street/Sidewalk</td>\n",
       "      <td>Loud Music/Party</td>\n",
       "      <td>Street/Sidewalk</td>\n",
       "      <td>10034.0</td>\n",
       "      <td>71 VERMILYEA AVENUE</td>\n",
       "      <td>...</td>\n",
       "      <td>NaN</td>\n",
       "      <td>NaN</td>\n",
       "      <td>NaN</td>\n",
       "      <td>NaN</td>\n",
       "      <td>NaN</td>\n",
       "      <td>NaN</td>\n",
       "      <td>NaN</td>\n",
       "      <td>40.865682</td>\n",
       "      <td>-73.923501</td>\n",
       "      <td>(40.86568153633767, -73.92350095571744)</td>\n",
       "    </tr>\n",
       "    <tr>\n",
       "      <th>1</th>\n",
       "      <td>32309934</td>\n",
       "      <td>12/31/2015 11:59:44 PM</td>\n",
       "      <td>01-01-16 1:26</td>\n",
       "      <td>NYPD</td>\n",
       "      <td>New York City Police Department</td>\n",
       "      <td>Blocked Driveway</td>\n",
       "      <td>No Access</td>\n",
       "      <td>Street/Sidewalk</td>\n",
       "      <td>11105.0</td>\n",
       "      <td>27-07 23 AVENUE</td>\n",
       "      <td>...</td>\n",
       "      <td>NaN</td>\n",
       "      <td>NaN</td>\n",
       "      <td>NaN</td>\n",
       "      <td>NaN</td>\n",
       "      <td>NaN</td>\n",
       "      <td>NaN</td>\n",
       "      <td>NaN</td>\n",
       "      <td>40.775945</td>\n",
       "      <td>-73.915094</td>\n",
       "      <td>(40.775945312321085, -73.91509393898605)</td>\n",
       "    </tr>\n",
       "    <tr>\n",
       "      <th>2</th>\n",
       "      <td>32309159</td>\n",
       "      <td>12/31/2015 11:59:29 PM</td>\n",
       "      <td>01-01-16 4:51</td>\n",
       "      <td>NYPD</td>\n",
       "      <td>New York City Police Department</td>\n",
       "      <td>Blocked Driveway</td>\n",
       "      <td>No Access</td>\n",
       "      <td>Street/Sidewalk</td>\n",
       "      <td>10458.0</td>\n",
       "      <td>2897 VALENTINE AVENUE</td>\n",
       "      <td>...</td>\n",
       "      <td>NaN</td>\n",
       "      <td>NaN</td>\n",
       "      <td>NaN</td>\n",
       "      <td>NaN</td>\n",
       "      <td>NaN</td>\n",
       "      <td>NaN</td>\n",
       "      <td>NaN</td>\n",
       "      <td>40.870325</td>\n",
       "      <td>-73.888525</td>\n",
       "      <td>(40.870324522111424, -73.88852464418646)</td>\n",
       "    </tr>\n",
       "    <tr>\n",
       "      <th>3</th>\n",
       "      <td>32305098</td>\n",
       "      <td>12/31/2015 11:57:46 PM</td>\n",
       "      <td>01-01-16 7:43</td>\n",
       "      <td>NYPD</td>\n",
       "      <td>New York City Police Department</td>\n",
       "      <td>Illegal Parking</td>\n",
       "      <td>Commercial Overnight Parking</td>\n",
       "      <td>Street/Sidewalk</td>\n",
       "      <td>10461.0</td>\n",
       "      <td>2940 BAISLEY AVENUE</td>\n",
       "      <td>...</td>\n",
       "      <td>NaN</td>\n",
       "      <td>NaN</td>\n",
       "      <td>NaN</td>\n",
       "      <td>NaN</td>\n",
       "      <td>NaN</td>\n",
       "      <td>NaN</td>\n",
       "      <td>NaN</td>\n",
       "      <td>40.835994</td>\n",
       "      <td>-73.828379</td>\n",
       "      <td>(40.83599404683083, -73.82837939584206)</td>\n",
       "    </tr>\n",
       "    <tr>\n",
       "      <th>4</th>\n",
       "      <td>32306529</td>\n",
       "      <td>12/31/2015 11:56:58 PM</td>\n",
       "      <td>01-01-16 3:24</td>\n",
       "      <td>NYPD</td>\n",
       "      <td>New York City Police Department</td>\n",
       "      <td>Illegal Parking</td>\n",
       "      <td>Blocked Sidewalk</td>\n",
       "      <td>Street/Sidewalk</td>\n",
       "      <td>11373.0</td>\n",
       "      <td>87-14 57 ROAD</td>\n",
       "      <td>...</td>\n",
       "      <td>NaN</td>\n",
       "      <td>NaN</td>\n",
       "      <td>NaN</td>\n",
       "      <td>NaN</td>\n",
       "      <td>NaN</td>\n",
       "      <td>NaN</td>\n",
       "      <td>NaN</td>\n",
       "      <td>40.733060</td>\n",
       "      <td>-73.874170</td>\n",
       "      <td>(40.733059618956815, -73.87416975810375)</td>\n",
       "    </tr>\n",
       "  </tbody>\n",
       "</table>\n",
       "<p>5 rows × 53 columns</p>\n",
       "</div>"
      ],
      "text/plain": [
       "   Unique Key            Created Date    Closed Date Agency  \\\n",
       "0    32310363  12/31/2015 11:59:45 PM  01-01-16 0:55   NYPD   \n",
       "1    32309934  12/31/2015 11:59:44 PM  01-01-16 1:26   NYPD   \n",
       "2    32309159  12/31/2015 11:59:29 PM  01-01-16 4:51   NYPD   \n",
       "3    32305098  12/31/2015 11:57:46 PM  01-01-16 7:43   NYPD   \n",
       "4    32306529  12/31/2015 11:56:58 PM  01-01-16 3:24   NYPD   \n",
       "\n",
       "                       Agency Name           Complaint Type  \\\n",
       "0  New York City Police Department  Noise - Street/Sidewalk   \n",
       "1  New York City Police Department         Blocked Driveway   \n",
       "2  New York City Police Department         Blocked Driveway   \n",
       "3  New York City Police Department          Illegal Parking   \n",
       "4  New York City Police Department          Illegal Parking   \n",
       "\n",
       "                     Descriptor    Location Type  Incident Zip  \\\n",
       "0              Loud Music/Party  Street/Sidewalk       10034.0   \n",
       "1                     No Access  Street/Sidewalk       11105.0   \n",
       "2                     No Access  Street/Sidewalk       10458.0   \n",
       "3  Commercial Overnight Parking  Street/Sidewalk       10461.0   \n",
       "4              Blocked Sidewalk  Street/Sidewalk       11373.0   \n",
       "\n",
       "        Incident Address  ... Bridge Highway Name Bridge Highway Direction  \\\n",
       "0    71 VERMILYEA AVENUE  ...                 NaN                      NaN   \n",
       "1        27-07 23 AVENUE  ...                 NaN                      NaN   \n",
       "2  2897 VALENTINE AVENUE  ...                 NaN                      NaN   \n",
       "3    2940 BAISLEY AVENUE  ...                 NaN                      NaN   \n",
       "4          87-14 57 ROAD  ...                 NaN                      NaN   \n",
       "\n",
       "  Road Ramp Bridge Highway Segment Garage Lot Name Ferry Direction  \\\n",
       "0       NaN                    NaN             NaN             NaN   \n",
       "1       NaN                    NaN             NaN             NaN   \n",
       "2       NaN                    NaN             NaN             NaN   \n",
       "3       NaN                    NaN             NaN             NaN   \n",
       "4       NaN                    NaN             NaN             NaN   \n",
       "\n",
       "  Ferry Terminal Name   Latitude  Longitude  \\\n",
       "0                 NaN  40.865682 -73.923501   \n",
       "1                 NaN  40.775945 -73.915094   \n",
       "2                 NaN  40.870325 -73.888525   \n",
       "3                 NaN  40.835994 -73.828379   \n",
       "4                 NaN  40.733060 -73.874170   \n",
       "\n",
       "                                   Location  \n",
       "0   (40.86568153633767, -73.92350095571744)  \n",
       "1  (40.775945312321085, -73.91509393898605)  \n",
       "2  (40.870324522111424, -73.88852464418646)  \n",
       "3   (40.83599404683083, -73.82837939584206)  \n",
       "4  (40.733059618956815, -73.87416975810375)  \n",
       "\n",
       "[5 rows x 53 columns]"
      ]
     },
     "execution_count": 4,
     "metadata": {},
     "output_type": "execute_result"
    }
   ],
   "source": [
    "csr_df.head()"
   ]
  },
  {
   "cell_type": "code",
   "execution_count": 5,
   "id": "fc919a86",
   "metadata": {},
   "outputs": [
    {
     "data": {
      "text/plain": [
       "(300698, 53)"
      ]
     },
     "execution_count": 5,
     "metadata": {},
     "output_type": "execute_result"
    }
   ],
   "source": [
    "csr_df.shape"
   ]
  },
  {
   "cell_type": "code",
   "execution_count": 6,
   "id": "1fffad8f",
   "metadata": {},
   "outputs": [
    {
     "name": "stdout",
     "output_type": "stream",
     "text": [
      "<class 'pandas.core.frame.DataFrame'>\n",
      "RangeIndex: 300698 entries, 0 to 300697\n",
      "Data columns (total 53 columns):\n",
      " #   Column                          Non-Null Count   Dtype  \n",
      "---  ------                          --------------   -----  \n",
      " 0   Unique Key                      300698 non-null  int64  \n",
      " 1   Created Date                    300698 non-null  object \n",
      " 2   Closed Date                     298534 non-null  object \n",
      " 3   Agency                          300698 non-null  object \n",
      " 4   Agency Name                     300698 non-null  object \n",
      " 5   Complaint Type                  300698 non-null  object \n",
      " 6   Descriptor                      294784 non-null  object \n",
      " 7   Location Type                   300567 non-null  object \n",
      " 8   Incident Zip                    298083 non-null  float64\n",
      " 9   Incident Address                256288 non-null  object \n",
      " 10  Street Name                     256288 non-null  object \n",
      " 11  Cross Street 1                  251419 non-null  object \n",
      " 12  Cross Street 2                  250919 non-null  object \n",
      " 13  Intersection Street 1           43858 non-null   object \n",
      " 14  Intersection Street 2           43362 non-null   object \n",
      " 15  Address Type                    297883 non-null  object \n",
      " 16  City                            298084 non-null  object \n",
      " 17  Landmark                        349 non-null     object \n",
      " 18  Facility Type                   298527 non-null  object \n",
      " 19  Status                          300698 non-null  object \n",
      " 20  Due Date                        300695 non-null  object \n",
      " 21  Resolution Description          300698 non-null  object \n",
      " 22  Resolution Action Updated Date  298511 non-null  object \n",
      " 23  Community Board                 300698 non-null  object \n",
      " 24  Borough                         300698 non-null  object \n",
      " 25  X Coordinate (State Plane)      297158 non-null  float64\n",
      " 26  Y Coordinate (State Plane)      297158 non-null  float64\n",
      " 27  Park Facility Name              300698 non-null  object \n",
      " 28  Park Borough                    300698 non-null  object \n",
      " 29  School Name                     300698 non-null  object \n",
      " 30  School Number                   300698 non-null  object \n",
      " 31  School Region                   300697 non-null  object \n",
      " 32  School Code                     300697 non-null  object \n",
      " 33  School Phone Number             300698 non-null  object \n",
      " 34  School Address                  300698 non-null  object \n",
      " 35  School City                     300698 non-null  object \n",
      " 36  School State                    300698 non-null  object \n",
      " 37  School Zip                      300697 non-null  object \n",
      " 38  School Not Found                300698 non-null  object \n",
      " 39  School or Citywide Complaint    0 non-null       float64\n",
      " 40  Vehicle Type                    0 non-null       float64\n",
      " 41  Taxi Company Borough            0 non-null       float64\n",
      " 42  Taxi Pick Up Location           0 non-null       float64\n",
      " 43  Bridge Highway Name             243 non-null     object \n",
      " 44  Bridge Highway Direction        243 non-null     object \n",
      " 45  Road Ramp                       213 non-null     object \n",
      " 46  Bridge Highway Segment          213 non-null     object \n",
      " 47  Garage Lot Name                 0 non-null       float64\n",
      " 48  Ferry Direction                 1 non-null       object \n",
      " 49  Ferry Terminal Name             2 non-null       object \n",
      " 50  Latitude                        297158 non-null  float64\n",
      " 51  Longitude                       297158 non-null  float64\n",
      " 52  Location                        297158 non-null  object \n",
      "dtypes: float64(10), int64(1), object(42)\n",
      "memory usage: 121.6+ MB\n"
     ]
    }
   ],
   "source": [
    "csr_df.info()"
   ]
  },
  {
   "cell_type": "markdown",
   "id": "41b275cc",
   "metadata": {},
   "source": [
    "## 4.Dropping All Null Columns"
   ]
  },
  {
   "cell_type": "code",
   "execution_count": 7,
   "id": "69bd2540",
   "metadata": {},
   "outputs": [],
   "source": [
    "csr_df1=csr_df.drop([\"Garage Lot Name\",\"Taxi Pick Up Location\",\"Taxi Company Borough\",\"Vehicle Type\",\"School or Citywide Complaint\"],axis=1)"
   ]
  },
  {
   "cell_type": "code",
   "execution_count": 8,
   "id": "ca184b42",
   "metadata": {},
   "outputs": [
    {
     "data": {
      "text/html": [
       "<div>\n",
       "<style scoped>\n",
       "    .dataframe tbody tr th:only-of-type {\n",
       "        vertical-align: middle;\n",
       "    }\n",
       "\n",
       "    .dataframe tbody tr th {\n",
       "        vertical-align: top;\n",
       "    }\n",
       "\n",
       "    .dataframe thead th {\n",
       "        text-align: right;\n",
       "    }\n",
       "</style>\n",
       "<table border=\"1\" class=\"dataframe\">\n",
       "  <thead>\n",
       "    <tr style=\"text-align: right;\">\n",
       "      <th></th>\n",
       "      <th>Unique Key</th>\n",
       "      <th>Created Date</th>\n",
       "      <th>Closed Date</th>\n",
       "      <th>Agency</th>\n",
       "      <th>Agency Name</th>\n",
       "      <th>Complaint Type</th>\n",
       "      <th>Descriptor</th>\n",
       "      <th>Location Type</th>\n",
       "      <th>Incident Zip</th>\n",
       "      <th>Incident Address</th>\n",
       "      <th>...</th>\n",
       "      <th>School Not Found</th>\n",
       "      <th>Bridge Highway Name</th>\n",
       "      <th>Bridge Highway Direction</th>\n",
       "      <th>Road Ramp</th>\n",
       "      <th>Bridge Highway Segment</th>\n",
       "      <th>Ferry Direction</th>\n",
       "      <th>Ferry Terminal Name</th>\n",
       "      <th>Latitude</th>\n",
       "      <th>Longitude</th>\n",
       "      <th>Location</th>\n",
       "    </tr>\n",
       "  </thead>\n",
       "  <tbody>\n",
       "    <tr>\n",
       "      <th>0</th>\n",
       "      <td>32310363</td>\n",
       "      <td>12/31/2015 11:59:45 PM</td>\n",
       "      <td>01-01-16 0:55</td>\n",
       "      <td>NYPD</td>\n",
       "      <td>New York City Police Department</td>\n",
       "      <td>Noise - Street/Sidewalk</td>\n",
       "      <td>Loud Music/Party</td>\n",
       "      <td>Street/Sidewalk</td>\n",
       "      <td>10034.0</td>\n",
       "      <td>71 VERMILYEA AVENUE</td>\n",
       "      <td>...</td>\n",
       "      <td>N</td>\n",
       "      <td>NaN</td>\n",
       "      <td>NaN</td>\n",
       "      <td>NaN</td>\n",
       "      <td>NaN</td>\n",
       "      <td>NaN</td>\n",
       "      <td>NaN</td>\n",
       "      <td>40.865682</td>\n",
       "      <td>-73.923501</td>\n",
       "      <td>(40.86568153633767, -73.92350095571744)</td>\n",
       "    </tr>\n",
       "    <tr>\n",
       "      <th>1</th>\n",
       "      <td>32309934</td>\n",
       "      <td>12/31/2015 11:59:44 PM</td>\n",
       "      <td>01-01-16 1:26</td>\n",
       "      <td>NYPD</td>\n",
       "      <td>New York City Police Department</td>\n",
       "      <td>Blocked Driveway</td>\n",
       "      <td>No Access</td>\n",
       "      <td>Street/Sidewalk</td>\n",
       "      <td>11105.0</td>\n",
       "      <td>27-07 23 AVENUE</td>\n",
       "      <td>...</td>\n",
       "      <td>N</td>\n",
       "      <td>NaN</td>\n",
       "      <td>NaN</td>\n",
       "      <td>NaN</td>\n",
       "      <td>NaN</td>\n",
       "      <td>NaN</td>\n",
       "      <td>NaN</td>\n",
       "      <td>40.775945</td>\n",
       "      <td>-73.915094</td>\n",
       "      <td>(40.775945312321085, -73.91509393898605)</td>\n",
       "    </tr>\n",
       "    <tr>\n",
       "      <th>2</th>\n",
       "      <td>32309159</td>\n",
       "      <td>12/31/2015 11:59:29 PM</td>\n",
       "      <td>01-01-16 4:51</td>\n",
       "      <td>NYPD</td>\n",
       "      <td>New York City Police Department</td>\n",
       "      <td>Blocked Driveway</td>\n",
       "      <td>No Access</td>\n",
       "      <td>Street/Sidewalk</td>\n",
       "      <td>10458.0</td>\n",
       "      <td>2897 VALENTINE AVENUE</td>\n",
       "      <td>...</td>\n",
       "      <td>N</td>\n",
       "      <td>NaN</td>\n",
       "      <td>NaN</td>\n",
       "      <td>NaN</td>\n",
       "      <td>NaN</td>\n",
       "      <td>NaN</td>\n",
       "      <td>NaN</td>\n",
       "      <td>40.870325</td>\n",
       "      <td>-73.888525</td>\n",
       "      <td>(40.870324522111424, -73.88852464418646)</td>\n",
       "    </tr>\n",
       "    <tr>\n",
       "      <th>3</th>\n",
       "      <td>32305098</td>\n",
       "      <td>12/31/2015 11:57:46 PM</td>\n",
       "      <td>01-01-16 7:43</td>\n",
       "      <td>NYPD</td>\n",
       "      <td>New York City Police Department</td>\n",
       "      <td>Illegal Parking</td>\n",
       "      <td>Commercial Overnight Parking</td>\n",
       "      <td>Street/Sidewalk</td>\n",
       "      <td>10461.0</td>\n",
       "      <td>2940 BAISLEY AVENUE</td>\n",
       "      <td>...</td>\n",
       "      <td>N</td>\n",
       "      <td>NaN</td>\n",
       "      <td>NaN</td>\n",
       "      <td>NaN</td>\n",
       "      <td>NaN</td>\n",
       "      <td>NaN</td>\n",
       "      <td>NaN</td>\n",
       "      <td>40.835994</td>\n",
       "      <td>-73.828379</td>\n",
       "      <td>(40.83599404683083, -73.82837939584206)</td>\n",
       "    </tr>\n",
       "    <tr>\n",
       "      <th>4</th>\n",
       "      <td>32306529</td>\n",
       "      <td>12/31/2015 11:56:58 PM</td>\n",
       "      <td>01-01-16 3:24</td>\n",
       "      <td>NYPD</td>\n",
       "      <td>New York City Police Department</td>\n",
       "      <td>Illegal Parking</td>\n",
       "      <td>Blocked Sidewalk</td>\n",
       "      <td>Street/Sidewalk</td>\n",
       "      <td>11373.0</td>\n",
       "      <td>87-14 57 ROAD</td>\n",
       "      <td>...</td>\n",
       "      <td>N</td>\n",
       "      <td>NaN</td>\n",
       "      <td>NaN</td>\n",
       "      <td>NaN</td>\n",
       "      <td>NaN</td>\n",
       "      <td>NaN</td>\n",
       "      <td>NaN</td>\n",
       "      <td>40.733060</td>\n",
       "      <td>-73.874170</td>\n",
       "      <td>(40.733059618956815, -73.87416975810375)</td>\n",
       "    </tr>\n",
       "  </tbody>\n",
       "</table>\n",
       "<p>5 rows × 48 columns</p>\n",
       "</div>"
      ],
      "text/plain": [
       "   Unique Key            Created Date    Closed Date Agency  \\\n",
       "0    32310363  12/31/2015 11:59:45 PM  01-01-16 0:55   NYPD   \n",
       "1    32309934  12/31/2015 11:59:44 PM  01-01-16 1:26   NYPD   \n",
       "2    32309159  12/31/2015 11:59:29 PM  01-01-16 4:51   NYPD   \n",
       "3    32305098  12/31/2015 11:57:46 PM  01-01-16 7:43   NYPD   \n",
       "4    32306529  12/31/2015 11:56:58 PM  01-01-16 3:24   NYPD   \n",
       "\n",
       "                       Agency Name           Complaint Type  \\\n",
       "0  New York City Police Department  Noise - Street/Sidewalk   \n",
       "1  New York City Police Department         Blocked Driveway   \n",
       "2  New York City Police Department         Blocked Driveway   \n",
       "3  New York City Police Department          Illegal Parking   \n",
       "4  New York City Police Department          Illegal Parking   \n",
       "\n",
       "                     Descriptor    Location Type  Incident Zip  \\\n",
       "0              Loud Music/Party  Street/Sidewalk       10034.0   \n",
       "1                     No Access  Street/Sidewalk       11105.0   \n",
       "2                     No Access  Street/Sidewalk       10458.0   \n",
       "3  Commercial Overnight Parking  Street/Sidewalk       10461.0   \n",
       "4              Blocked Sidewalk  Street/Sidewalk       11373.0   \n",
       "\n",
       "        Incident Address  ... School Not Found Bridge Highway Name  \\\n",
       "0    71 VERMILYEA AVENUE  ...                N                 NaN   \n",
       "1        27-07 23 AVENUE  ...                N                 NaN   \n",
       "2  2897 VALENTINE AVENUE  ...                N                 NaN   \n",
       "3    2940 BAISLEY AVENUE  ...                N                 NaN   \n",
       "4          87-14 57 ROAD  ...                N                 NaN   \n",
       "\n",
       "  Bridge Highway Direction Road Ramp Bridge Highway Segment Ferry Direction  \\\n",
       "0                      NaN       NaN                    NaN             NaN   \n",
       "1                      NaN       NaN                    NaN             NaN   \n",
       "2                      NaN       NaN                    NaN             NaN   \n",
       "3                      NaN       NaN                    NaN             NaN   \n",
       "4                      NaN       NaN                    NaN             NaN   \n",
       "\n",
       "  Ferry Terminal Name   Latitude  Longitude  \\\n",
       "0                 NaN  40.865682 -73.923501   \n",
       "1                 NaN  40.775945 -73.915094   \n",
       "2                 NaN  40.870325 -73.888525   \n",
       "3                 NaN  40.835994 -73.828379   \n",
       "4                 NaN  40.733060 -73.874170   \n",
       "\n",
       "                                   Location  \n",
       "0   (40.86568153633767, -73.92350095571744)  \n",
       "1  (40.775945312321085, -73.91509393898605)  \n",
       "2  (40.870324522111424, -73.88852464418646)  \n",
       "3   (40.83599404683083, -73.82837939584206)  \n",
       "4  (40.733059618956815, -73.87416975810375)  \n",
       "\n",
       "[5 rows x 48 columns]"
      ]
     },
     "execution_count": 8,
     "metadata": {},
     "output_type": "execute_result"
    }
   ],
   "source": [
    "csr_df1.head()"
   ]
  },
  {
   "cell_type": "markdown",
   "id": "4e810542",
   "metadata": {},
   "source": [
    "## 5.Read or convert the columns ‘Created Date’ and 'Closed Date’ to datetime datatype"
   ]
  },
  {
   "cell_type": "code",
   "execution_count": 9,
   "id": "bc4c3e10",
   "metadata": {},
   "outputs": [],
   "source": [
    "import datetime"
   ]
  },
  {
   "cell_type": "code",
   "execution_count": 10,
   "id": "8d478fba",
   "metadata": {},
   "outputs": [
    {
     "data": {
      "text/html": [
       "<div>\n",
       "<style scoped>\n",
       "    .dataframe tbody tr th:only-of-type {\n",
       "        vertical-align: middle;\n",
       "    }\n",
       "\n",
       "    .dataframe tbody tr th {\n",
       "        vertical-align: top;\n",
       "    }\n",
       "\n",
       "    .dataframe thead th {\n",
       "        text-align: right;\n",
       "    }\n",
       "</style>\n",
       "<table border=\"1\" class=\"dataframe\">\n",
       "  <thead>\n",
       "    <tr style=\"text-align: right;\">\n",
       "      <th></th>\n",
       "      <th>Unique Key</th>\n",
       "      <th>Created Date</th>\n",
       "      <th>Closed Date</th>\n",
       "      <th>Agency</th>\n",
       "      <th>Agency Name</th>\n",
       "      <th>Complaint Type</th>\n",
       "      <th>Descriptor</th>\n",
       "      <th>Location Type</th>\n",
       "      <th>Incident Zip</th>\n",
       "      <th>Incident Address</th>\n",
       "      <th>...</th>\n",
       "      <th>Bridge Highway Name</th>\n",
       "      <th>Bridge Highway Direction</th>\n",
       "      <th>Road Ramp</th>\n",
       "      <th>Bridge Highway Segment</th>\n",
       "      <th>Ferry Direction</th>\n",
       "      <th>Ferry Terminal Name</th>\n",
       "      <th>Latitude</th>\n",
       "      <th>Longitude</th>\n",
       "      <th>Location</th>\n",
       "      <th>Due_Date</th>\n",
       "    </tr>\n",
       "  </thead>\n",
       "  <tbody>\n",
       "    <tr>\n",
       "      <th>0</th>\n",
       "      <td>32310363</td>\n",
       "      <td>2015-12-31 23:59:45</td>\n",
       "      <td>2016-01-01 00:55:00</td>\n",
       "      <td>NYPD</td>\n",
       "      <td>New York City Police Department</td>\n",
       "      <td>Noise - Street/Sidewalk</td>\n",
       "      <td>Loud Music/Party</td>\n",
       "      <td>Street/Sidewalk</td>\n",
       "      <td>10034.0</td>\n",
       "      <td>71 VERMILYEA AVENUE</td>\n",
       "      <td>...</td>\n",
       "      <td>NaN</td>\n",
       "      <td>NaN</td>\n",
       "      <td>NaN</td>\n",
       "      <td>NaN</td>\n",
       "      <td>NaN</td>\n",
       "      <td>NaN</td>\n",
       "      <td>40.865682</td>\n",
       "      <td>-73.923501</td>\n",
       "      <td>(40.86568153633767, -73.92350095571744)</td>\n",
       "      <td>2016-01-01 07:59:00</td>\n",
       "    </tr>\n",
       "    <tr>\n",
       "      <th>1</th>\n",
       "      <td>32309934</td>\n",
       "      <td>2015-12-31 23:59:44</td>\n",
       "      <td>2016-01-01 01:26:00</td>\n",
       "      <td>NYPD</td>\n",
       "      <td>New York City Police Department</td>\n",
       "      <td>Blocked Driveway</td>\n",
       "      <td>No Access</td>\n",
       "      <td>Street/Sidewalk</td>\n",
       "      <td>11105.0</td>\n",
       "      <td>27-07 23 AVENUE</td>\n",
       "      <td>...</td>\n",
       "      <td>NaN</td>\n",
       "      <td>NaN</td>\n",
       "      <td>NaN</td>\n",
       "      <td>NaN</td>\n",
       "      <td>NaN</td>\n",
       "      <td>NaN</td>\n",
       "      <td>40.775945</td>\n",
       "      <td>-73.915094</td>\n",
       "      <td>(40.775945312321085, -73.91509393898605)</td>\n",
       "      <td>2016-01-01 07:59:00</td>\n",
       "    </tr>\n",
       "    <tr>\n",
       "      <th>2</th>\n",
       "      <td>32309159</td>\n",
       "      <td>2015-12-31 23:59:29</td>\n",
       "      <td>2016-01-01 04:51:00</td>\n",
       "      <td>NYPD</td>\n",
       "      <td>New York City Police Department</td>\n",
       "      <td>Blocked Driveway</td>\n",
       "      <td>No Access</td>\n",
       "      <td>Street/Sidewalk</td>\n",
       "      <td>10458.0</td>\n",
       "      <td>2897 VALENTINE AVENUE</td>\n",
       "      <td>...</td>\n",
       "      <td>NaN</td>\n",
       "      <td>NaN</td>\n",
       "      <td>NaN</td>\n",
       "      <td>NaN</td>\n",
       "      <td>NaN</td>\n",
       "      <td>NaN</td>\n",
       "      <td>40.870325</td>\n",
       "      <td>-73.888525</td>\n",
       "      <td>(40.870324522111424, -73.88852464418646)</td>\n",
       "      <td>2016-01-01 07:59:00</td>\n",
       "    </tr>\n",
       "    <tr>\n",
       "      <th>3</th>\n",
       "      <td>32305098</td>\n",
       "      <td>2015-12-31 23:57:46</td>\n",
       "      <td>2016-01-01 07:43:00</td>\n",
       "      <td>NYPD</td>\n",
       "      <td>New York City Police Department</td>\n",
       "      <td>Illegal Parking</td>\n",
       "      <td>Commercial Overnight Parking</td>\n",
       "      <td>Street/Sidewalk</td>\n",
       "      <td>10461.0</td>\n",
       "      <td>2940 BAISLEY AVENUE</td>\n",
       "      <td>...</td>\n",
       "      <td>NaN</td>\n",
       "      <td>NaN</td>\n",
       "      <td>NaN</td>\n",
       "      <td>NaN</td>\n",
       "      <td>NaN</td>\n",
       "      <td>NaN</td>\n",
       "      <td>40.835994</td>\n",
       "      <td>-73.828379</td>\n",
       "      <td>(40.83599404683083, -73.82837939584206)</td>\n",
       "      <td>2016-01-01 07:57:00</td>\n",
       "    </tr>\n",
       "    <tr>\n",
       "      <th>4</th>\n",
       "      <td>32306529</td>\n",
       "      <td>2015-12-31 23:56:58</td>\n",
       "      <td>2016-01-01 03:24:00</td>\n",
       "      <td>NYPD</td>\n",
       "      <td>New York City Police Department</td>\n",
       "      <td>Illegal Parking</td>\n",
       "      <td>Blocked Sidewalk</td>\n",
       "      <td>Street/Sidewalk</td>\n",
       "      <td>11373.0</td>\n",
       "      <td>87-14 57 ROAD</td>\n",
       "      <td>...</td>\n",
       "      <td>NaN</td>\n",
       "      <td>NaN</td>\n",
       "      <td>NaN</td>\n",
       "      <td>NaN</td>\n",
       "      <td>NaN</td>\n",
       "      <td>NaN</td>\n",
       "      <td>40.733060</td>\n",
       "      <td>-73.874170</td>\n",
       "      <td>(40.733059618956815, -73.87416975810375)</td>\n",
       "      <td>2016-01-01 07:56:00</td>\n",
       "    </tr>\n",
       "    <tr>\n",
       "      <th>...</th>\n",
       "      <td>...</td>\n",
       "      <td>...</td>\n",
       "      <td>...</td>\n",
       "      <td>...</td>\n",
       "      <td>...</td>\n",
       "      <td>...</td>\n",
       "      <td>...</td>\n",
       "      <td>...</td>\n",
       "      <td>...</td>\n",
       "      <td>...</td>\n",
       "      <td>...</td>\n",
       "      <td>...</td>\n",
       "      <td>...</td>\n",
       "      <td>...</td>\n",
       "      <td>...</td>\n",
       "      <td>...</td>\n",
       "      <td>...</td>\n",
       "      <td>...</td>\n",
       "      <td>...</td>\n",
       "      <td>...</td>\n",
       "      <td>...</td>\n",
       "    </tr>\n",
       "    <tr>\n",
       "      <th>300693</th>\n",
       "      <td>30281872</td>\n",
       "      <td>2015-03-29 00:33:41</td>\n",
       "      <td>NaT</td>\n",
       "      <td>NYPD</td>\n",
       "      <td>New York City Police Department</td>\n",
       "      <td>Noise - Commercial</td>\n",
       "      <td>Loud Music/Party</td>\n",
       "      <td>Club/Bar/Restaurant</td>\n",
       "      <td>NaN</td>\n",
       "      <td>CRESCENT AVENUE</td>\n",
       "      <td>...</td>\n",
       "      <td>NaN</td>\n",
       "      <td>NaN</td>\n",
       "      <td>NaN</td>\n",
       "      <td>NaN</td>\n",
       "      <td>NaN</td>\n",
       "      <td>NaN</td>\n",
       "      <td>NaN</td>\n",
       "      <td>NaN</td>\n",
       "      <td>NaN</td>\n",
       "      <td>2015-03-29 08:33:41</td>\n",
       "    </tr>\n",
       "    <tr>\n",
       "      <th>300694</th>\n",
       "      <td>30281230</td>\n",
       "      <td>2015-03-29 00:33:28</td>\n",
       "      <td>2015-03-29 02:33:59</td>\n",
       "      <td>NYPD</td>\n",
       "      <td>New York City Police Department</td>\n",
       "      <td>Blocked Driveway</td>\n",
       "      <td>Partial Access</td>\n",
       "      <td>Street/Sidewalk</td>\n",
       "      <td>11418.0</td>\n",
       "      <td>100-17 87 AVENUE</td>\n",
       "      <td>...</td>\n",
       "      <td>NaN</td>\n",
       "      <td>NaN</td>\n",
       "      <td>NaN</td>\n",
       "      <td>NaN</td>\n",
       "      <td>NaN</td>\n",
       "      <td>NaN</td>\n",
       "      <td>40.694077</td>\n",
       "      <td>-73.846087</td>\n",
       "      <td>(40.69407728322387, -73.8460866160573)</td>\n",
       "      <td>2015-03-29 08:33:28</td>\n",
       "    </tr>\n",
       "    <tr>\n",
       "      <th>300695</th>\n",
       "      <td>30283424</td>\n",
       "      <td>2015-03-29 00:33:03</td>\n",
       "      <td>2015-03-29 03:40:20</td>\n",
       "      <td>NYPD</td>\n",
       "      <td>New York City Police Department</td>\n",
       "      <td>Noise - Commercial</td>\n",
       "      <td>Loud Music/Party</td>\n",
       "      <td>Club/Bar/Restaurant</td>\n",
       "      <td>11206.0</td>\n",
       "      <td>162 THROOP AVENUE</td>\n",
       "      <td>...</td>\n",
       "      <td>NaN</td>\n",
       "      <td>NaN</td>\n",
       "      <td>NaN</td>\n",
       "      <td>NaN</td>\n",
       "      <td>NaN</td>\n",
       "      <td>NaN</td>\n",
       "      <td>40.699590</td>\n",
       "      <td>-73.944234</td>\n",
       "      <td>(40.69959035300927, -73.94423377144169)</td>\n",
       "      <td>2015-03-29 08:33:03</td>\n",
       "    </tr>\n",
       "    <tr>\n",
       "      <th>300696</th>\n",
       "      <td>30280004</td>\n",
       "      <td>2015-03-29 00:33:02</td>\n",
       "      <td>2015-03-29 04:38:35</td>\n",
       "      <td>NYPD</td>\n",
       "      <td>New York City Police Department</td>\n",
       "      <td>Noise - Commercial</td>\n",
       "      <td>Loud Music/Party</td>\n",
       "      <td>Club/Bar/Restaurant</td>\n",
       "      <td>10461.0</td>\n",
       "      <td>3151 EAST TREMONT AVENUE</td>\n",
       "      <td>...</td>\n",
       "      <td>NaN</td>\n",
       "      <td>NaN</td>\n",
       "      <td>NaN</td>\n",
       "      <td>NaN</td>\n",
       "      <td>NaN</td>\n",
       "      <td>NaN</td>\n",
       "      <td>40.837708</td>\n",
       "      <td>-73.834587</td>\n",
       "      <td>(40.8377075854206, -73.83458731019586)</td>\n",
       "      <td>2015-03-29 08:33:02</td>\n",
       "    </tr>\n",
       "    <tr>\n",
       "      <th>300697</th>\n",
       "      <td>30281825</td>\n",
       "      <td>2015-03-29 00:33:01</td>\n",
       "      <td>2015-03-29 04:41:50</td>\n",
       "      <td>NYPD</td>\n",
       "      <td>New York City Police Department</td>\n",
       "      <td>Noise - Commercial</td>\n",
       "      <td>Loud Music/Party</td>\n",
       "      <td>Store/Commercial</td>\n",
       "      <td>10036.0</td>\n",
       "      <td>251 WEST 48 STREET</td>\n",
       "      <td>...</td>\n",
       "      <td>NaN</td>\n",
       "      <td>NaN</td>\n",
       "      <td>NaN</td>\n",
       "      <td>NaN</td>\n",
       "      <td>NaN</td>\n",
       "      <td>NaN</td>\n",
       "      <td>40.760583</td>\n",
       "      <td>-73.985922</td>\n",
       "      <td>(40.76058322950115, -73.98592204392392)</td>\n",
       "      <td>2015-03-29 08:33:01</td>\n",
       "    </tr>\n",
       "  </tbody>\n",
       "</table>\n",
       "<p>300698 rows × 49 columns</p>\n",
       "</div>"
      ],
      "text/plain": [
       "        Unique Key        Created Date         Closed Date Agency  \\\n",
       "0         32310363 2015-12-31 23:59:45 2016-01-01 00:55:00   NYPD   \n",
       "1         32309934 2015-12-31 23:59:44 2016-01-01 01:26:00   NYPD   \n",
       "2         32309159 2015-12-31 23:59:29 2016-01-01 04:51:00   NYPD   \n",
       "3         32305098 2015-12-31 23:57:46 2016-01-01 07:43:00   NYPD   \n",
       "4         32306529 2015-12-31 23:56:58 2016-01-01 03:24:00   NYPD   \n",
       "...            ...                 ...                 ...    ...   \n",
       "300693    30281872 2015-03-29 00:33:41                 NaT   NYPD   \n",
       "300694    30281230 2015-03-29 00:33:28 2015-03-29 02:33:59   NYPD   \n",
       "300695    30283424 2015-03-29 00:33:03 2015-03-29 03:40:20   NYPD   \n",
       "300696    30280004 2015-03-29 00:33:02 2015-03-29 04:38:35   NYPD   \n",
       "300697    30281825 2015-03-29 00:33:01 2015-03-29 04:41:50   NYPD   \n",
       "\n",
       "                            Agency Name           Complaint Type  \\\n",
       "0       New York City Police Department  Noise - Street/Sidewalk   \n",
       "1       New York City Police Department         Blocked Driveway   \n",
       "2       New York City Police Department         Blocked Driveway   \n",
       "3       New York City Police Department          Illegal Parking   \n",
       "4       New York City Police Department          Illegal Parking   \n",
       "...                                 ...                      ...   \n",
       "300693  New York City Police Department       Noise - Commercial   \n",
       "300694  New York City Police Department         Blocked Driveway   \n",
       "300695  New York City Police Department       Noise - Commercial   \n",
       "300696  New York City Police Department       Noise - Commercial   \n",
       "300697  New York City Police Department       Noise - Commercial   \n",
       "\n",
       "                          Descriptor        Location Type  Incident Zip  \\\n",
       "0                   Loud Music/Party      Street/Sidewalk       10034.0   \n",
       "1                          No Access      Street/Sidewalk       11105.0   \n",
       "2                          No Access      Street/Sidewalk       10458.0   \n",
       "3       Commercial Overnight Parking      Street/Sidewalk       10461.0   \n",
       "4                   Blocked Sidewalk      Street/Sidewalk       11373.0   \n",
       "...                              ...                  ...           ...   \n",
       "300693              Loud Music/Party  Club/Bar/Restaurant           NaN   \n",
       "300694                Partial Access      Street/Sidewalk       11418.0   \n",
       "300695              Loud Music/Party  Club/Bar/Restaurant       11206.0   \n",
       "300696              Loud Music/Party  Club/Bar/Restaurant       10461.0   \n",
       "300697              Loud Music/Party     Store/Commercial       10036.0   \n",
       "\n",
       "                Incident Address  ... Bridge Highway Name  \\\n",
       "0            71 VERMILYEA AVENUE  ...                 NaN   \n",
       "1                27-07 23 AVENUE  ...                 NaN   \n",
       "2          2897 VALENTINE AVENUE  ...                 NaN   \n",
       "3            2940 BAISLEY AVENUE  ...                 NaN   \n",
       "4                  87-14 57 ROAD  ...                 NaN   \n",
       "...                          ...  ...                 ...   \n",
       "300693           CRESCENT AVENUE  ...                 NaN   \n",
       "300694          100-17 87 AVENUE  ...                 NaN   \n",
       "300695         162 THROOP AVENUE  ...                 NaN   \n",
       "300696  3151 EAST TREMONT AVENUE  ...                 NaN   \n",
       "300697        251 WEST 48 STREET  ...                 NaN   \n",
       "\n",
       "       Bridge Highway Direction Road Ramp Bridge Highway Segment  \\\n",
       "0                           NaN       NaN                    NaN   \n",
       "1                           NaN       NaN                    NaN   \n",
       "2                           NaN       NaN                    NaN   \n",
       "3                           NaN       NaN                    NaN   \n",
       "4                           NaN       NaN                    NaN   \n",
       "...                         ...       ...                    ...   \n",
       "300693                      NaN       NaN                    NaN   \n",
       "300694                      NaN       NaN                    NaN   \n",
       "300695                      NaN       NaN                    NaN   \n",
       "300696                      NaN       NaN                    NaN   \n",
       "300697                      NaN       NaN                    NaN   \n",
       "\n",
       "       Ferry Direction Ferry Terminal Name   Latitude  Longitude  \\\n",
       "0                  NaN                 NaN  40.865682 -73.923501   \n",
       "1                  NaN                 NaN  40.775945 -73.915094   \n",
       "2                  NaN                 NaN  40.870325 -73.888525   \n",
       "3                  NaN                 NaN  40.835994 -73.828379   \n",
       "4                  NaN                 NaN  40.733060 -73.874170   \n",
       "...                ...                 ...        ...        ...   \n",
       "300693             NaN                 NaN        NaN        NaN   \n",
       "300694             NaN                 NaN  40.694077 -73.846087   \n",
       "300695             NaN                 NaN  40.699590 -73.944234   \n",
       "300696             NaN                 NaN  40.837708 -73.834587   \n",
       "300697             NaN                 NaN  40.760583 -73.985922   \n",
       "\n",
       "                                        Location            Due_Date  \n",
       "0        (40.86568153633767, -73.92350095571744) 2016-01-01 07:59:00  \n",
       "1       (40.775945312321085, -73.91509393898605) 2016-01-01 07:59:00  \n",
       "2       (40.870324522111424, -73.88852464418646) 2016-01-01 07:59:00  \n",
       "3        (40.83599404683083, -73.82837939584206) 2016-01-01 07:57:00  \n",
       "4       (40.733059618956815, -73.87416975810375) 2016-01-01 07:56:00  \n",
       "...                                          ...                 ...  \n",
       "300693                                       NaN 2015-03-29 08:33:41  \n",
       "300694    (40.69407728322387, -73.8460866160573) 2015-03-29 08:33:28  \n",
       "300695   (40.69959035300927, -73.94423377144169) 2015-03-29 08:33:03  \n",
       "300696    (40.8377075854206, -73.83458731019586) 2015-03-29 08:33:02  \n",
       "300697   (40.76058322950115, -73.98592204392392) 2015-03-29 08:33:01  \n",
       "\n",
       "[300698 rows x 49 columns]"
      ]
     },
     "execution_count": 10,
     "metadata": {},
     "output_type": "execute_result"
    }
   ],
   "source": [
    "csr_df1['Created Date']=pd.to_datetime(csr_df1['Created Date'])\n",
    "csr_df1['Closed Date']=pd.to_datetime(csr_df1['Closed Date'])\n",
    "csr_df1['Due_Date']=pd.to_datetime(csr_df1['Due Date'])\n",
    "\n",
    "csr_df1"
   ]
  },
  {
   "cell_type": "markdown",
   "id": "c5dbf24a",
   "metadata": {},
   "source": [
    "## 6.Create a new column ‘Request_Closing_Time’ as the time elapsed between request creation and request closing."
   ]
  },
  {
   "cell_type": "code",
   "execution_count": 11,
   "id": "b6e8e6af",
   "metadata": {},
   "outputs": [],
   "source": [
    "csr_df1['Request closing Time'] = csr_df1['Closed Date'] - csr_df1['Created Date']"
   ]
  },
  {
   "cell_type": "code",
   "execution_count": 12,
   "id": "12b02be1",
   "metadata": {},
   "outputs": [
    {
     "data": {
      "text/html": [
       "<div>\n",
       "<style scoped>\n",
       "    .dataframe tbody tr th:only-of-type {\n",
       "        vertical-align: middle;\n",
       "    }\n",
       "\n",
       "    .dataframe tbody tr th {\n",
       "        vertical-align: top;\n",
       "    }\n",
       "\n",
       "    .dataframe thead th {\n",
       "        text-align: right;\n",
       "    }\n",
       "</style>\n",
       "<table border=\"1\" class=\"dataframe\">\n",
       "  <thead>\n",
       "    <tr style=\"text-align: right;\">\n",
       "      <th></th>\n",
       "      <th>Unique Key</th>\n",
       "      <th>Created Date</th>\n",
       "      <th>Closed Date</th>\n",
       "      <th>Agency</th>\n",
       "      <th>Agency Name</th>\n",
       "      <th>Complaint Type</th>\n",
       "      <th>Descriptor</th>\n",
       "      <th>Location Type</th>\n",
       "      <th>Incident Zip</th>\n",
       "      <th>Incident Address</th>\n",
       "      <th>...</th>\n",
       "      <th>Bridge Highway Direction</th>\n",
       "      <th>Road Ramp</th>\n",
       "      <th>Bridge Highway Segment</th>\n",
       "      <th>Ferry Direction</th>\n",
       "      <th>Ferry Terminal Name</th>\n",
       "      <th>Latitude</th>\n",
       "      <th>Longitude</th>\n",
       "      <th>Location</th>\n",
       "      <th>Due_Date</th>\n",
       "      <th>Request closing Time</th>\n",
       "    </tr>\n",
       "  </thead>\n",
       "  <tbody>\n",
       "    <tr>\n",
       "      <th>0</th>\n",
       "      <td>32310363</td>\n",
       "      <td>2015-12-31 23:59:45</td>\n",
       "      <td>2016-01-01 00:55:00</td>\n",
       "      <td>NYPD</td>\n",
       "      <td>New York City Police Department</td>\n",
       "      <td>Noise - Street/Sidewalk</td>\n",
       "      <td>Loud Music/Party</td>\n",
       "      <td>Street/Sidewalk</td>\n",
       "      <td>10034.0</td>\n",
       "      <td>71 VERMILYEA AVENUE</td>\n",
       "      <td>...</td>\n",
       "      <td>NaN</td>\n",
       "      <td>NaN</td>\n",
       "      <td>NaN</td>\n",
       "      <td>NaN</td>\n",
       "      <td>NaN</td>\n",
       "      <td>40.865682</td>\n",
       "      <td>-73.923501</td>\n",
       "      <td>(40.86568153633767, -73.92350095571744)</td>\n",
       "      <td>2016-01-01 07:59:00</td>\n",
       "      <td>0 days 00:55:15</td>\n",
       "    </tr>\n",
       "    <tr>\n",
       "      <th>1</th>\n",
       "      <td>32309934</td>\n",
       "      <td>2015-12-31 23:59:44</td>\n",
       "      <td>2016-01-01 01:26:00</td>\n",
       "      <td>NYPD</td>\n",
       "      <td>New York City Police Department</td>\n",
       "      <td>Blocked Driveway</td>\n",
       "      <td>No Access</td>\n",
       "      <td>Street/Sidewalk</td>\n",
       "      <td>11105.0</td>\n",
       "      <td>27-07 23 AVENUE</td>\n",
       "      <td>...</td>\n",
       "      <td>NaN</td>\n",
       "      <td>NaN</td>\n",
       "      <td>NaN</td>\n",
       "      <td>NaN</td>\n",
       "      <td>NaN</td>\n",
       "      <td>40.775945</td>\n",
       "      <td>-73.915094</td>\n",
       "      <td>(40.775945312321085, -73.91509393898605)</td>\n",
       "      <td>2016-01-01 07:59:00</td>\n",
       "      <td>0 days 01:26:16</td>\n",
       "    </tr>\n",
       "    <tr>\n",
       "      <th>2</th>\n",
       "      <td>32309159</td>\n",
       "      <td>2015-12-31 23:59:29</td>\n",
       "      <td>2016-01-01 04:51:00</td>\n",
       "      <td>NYPD</td>\n",
       "      <td>New York City Police Department</td>\n",
       "      <td>Blocked Driveway</td>\n",
       "      <td>No Access</td>\n",
       "      <td>Street/Sidewalk</td>\n",
       "      <td>10458.0</td>\n",
       "      <td>2897 VALENTINE AVENUE</td>\n",
       "      <td>...</td>\n",
       "      <td>NaN</td>\n",
       "      <td>NaN</td>\n",
       "      <td>NaN</td>\n",
       "      <td>NaN</td>\n",
       "      <td>NaN</td>\n",
       "      <td>40.870325</td>\n",
       "      <td>-73.888525</td>\n",
       "      <td>(40.870324522111424, -73.88852464418646)</td>\n",
       "      <td>2016-01-01 07:59:00</td>\n",
       "      <td>0 days 04:51:31</td>\n",
       "    </tr>\n",
       "    <tr>\n",
       "      <th>3</th>\n",
       "      <td>32305098</td>\n",
       "      <td>2015-12-31 23:57:46</td>\n",
       "      <td>2016-01-01 07:43:00</td>\n",
       "      <td>NYPD</td>\n",
       "      <td>New York City Police Department</td>\n",
       "      <td>Illegal Parking</td>\n",
       "      <td>Commercial Overnight Parking</td>\n",
       "      <td>Street/Sidewalk</td>\n",
       "      <td>10461.0</td>\n",
       "      <td>2940 BAISLEY AVENUE</td>\n",
       "      <td>...</td>\n",
       "      <td>NaN</td>\n",
       "      <td>NaN</td>\n",
       "      <td>NaN</td>\n",
       "      <td>NaN</td>\n",
       "      <td>NaN</td>\n",
       "      <td>40.835994</td>\n",
       "      <td>-73.828379</td>\n",
       "      <td>(40.83599404683083, -73.82837939584206)</td>\n",
       "      <td>2016-01-01 07:57:00</td>\n",
       "      <td>0 days 07:45:14</td>\n",
       "    </tr>\n",
       "    <tr>\n",
       "      <th>4</th>\n",
       "      <td>32306529</td>\n",
       "      <td>2015-12-31 23:56:58</td>\n",
       "      <td>2016-01-01 03:24:00</td>\n",
       "      <td>NYPD</td>\n",
       "      <td>New York City Police Department</td>\n",
       "      <td>Illegal Parking</td>\n",
       "      <td>Blocked Sidewalk</td>\n",
       "      <td>Street/Sidewalk</td>\n",
       "      <td>11373.0</td>\n",
       "      <td>87-14 57 ROAD</td>\n",
       "      <td>...</td>\n",
       "      <td>NaN</td>\n",
       "      <td>NaN</td>\n",
       "      <td>NaN</td>\n",
       "      <td>NaN</td>\n",
       "      <td>NaN</td>\n",
       "      <td>40.733060</td>\n",
       "      <td>-73.874170</td>\n",
       "      <td>(40.733059618956815, -73.87416975810375)</td>\n",
       "      <td>2016-01-01 07:56:00</td>\n",
       "      <td>0 days 03:27:02</td>\n",
       "    </tr>\n",
       "  </tbody>\n",
       "</table>\n",
       "<p>5 rows × 50 columns</p>\n",
       "</div>"
      ],
      "text/plain": [
       "   Unique Key        Created Date         Closed Date Agency  \\\n",
       "0    32310363 2015-12-31 23:59:45 2016-01-01 00:55:00   NYPD   \n",
       "1    32309934 2015-12-31 23:59:44 2016-01-01 01:26:00   NYPD   \n",
       "2    32309159 2015-12-31 23:59:29 2016-01-01 04:51:00   NYPD   \n",
       "3    32305098 2015-12-31 23:57:46 2016-01-01 07:43:00   NYPD   \n",
       "4    32306529 2015-12-31 23:56:58 2016-01-01 03:24:00   NYPD   \n",
       "\n",
       "                       Agency Name           Complaint Type  \\\n",
       "0  New York City Police Department  Noise - Street/Sidewalk   \n",
       "1  New York City Police Department         Blocked Driveway   \n",
       "2  New York City Police Department         Blocked Driveway   \n",
       "3  New York City Police Department          Illegal Parking   \n",
       "4  New York City Police Department          Illegal Parking   \n",
       "\n",
       "                     Descriptor    Location Type  Incident Zip  \\\n",
       "0              Loud Music/Party  Street/Sidewalk       10034.0   \n",
       "1                     No Access  Street/Sidewalk       11105.0   \n",
       "2                     No Access  Street/Sidewalk       10458.0   \n",
       "3  Commercial Overnight Parking  Street/Sidewalk       10461.0   \n",
       "4              Blocked Sidewalk  Street/Sidewalk       11373.0   \n",
       "\n",
       "        Incident Address  ... Bridge Highway Direction Road Ramp  \\\n",
       "0    71 VERMILYEA AVENUE  ...                      NaN       NaN   \n",
       "1        27-07 23 AVENUE  ...                      NaN       NaN   \n",
       "2  2897 VALENTINE AVENUE  ...                      NaN       NaN   \n",
       "3    2940 BAISLEY AVENUE  ...                      NaN       NaN   \n",
       "4          87-14 57 ROAD  ...                      NaN       NaN   \n",
       "\n",
       "  Bridge Highway Segment Ferry Direction Ferry Terminal Name   Latitude  \\\n",
       "0                    NaN             NaN                 NaN  40.865682   \n",
       "1                    NaN             NaN                 NaN  40.775945   \n",
       "2                    NaN             NaN                 NaN  40.870325   \n",
       "3                    NaN             NaN                 NaN  40.835994   \n",
       "4                    NaN             NaN                 NaN  40.733060   \n",
       "\n",
       "   Longitude                                  Location            Due_Date  \\\n",
       "0 -73.923501   (40.86568153633767, -73.92350095571744) 2016-01-01 07:59:00   \n",
       "1 -73.915094  (40.775945312321085, -73.91509393898605) 2016-01-01 07:59:00   \n",
       "2 -73.888525  (40.870324522111424, -73.88852464418646) 2016-01-01 07:59:00   \n",
       "3 -73.828379   (40.83599404683083, -73.82837939584206) 2016-01-01 07:57:00   \n",
       "4 -73.874170  (40.733059618956815, -73.87416975810375) 2016-01-01 07:56:00   \n",
       "\n",
       "  Request closing Time  \n",
       "0      0 days 00:55:15  \n",
       "1      0 days 01:26:16  \n",
       "2      0 days 04:51:31  \n",
       "3      0 days 07:45:14  \n",
       "4      0 days 03:27:02  \n",
       "\n",
       "[5 rows x 50 columns]"
      ]
     },
     "execution_count": 12,
     "metadata": {},
     "output_type": "execute_result"
    }
   ],
   "source": [
    "csr_df1.head()"
   ]
  },
  {
   "cell_type": "code",
   "execution_count": 13,
   "id": "8c763972",
   "metadata": {},
   "outputs": [
    {
     "data": {
      "text/plain": [
       "Index(['Unique Key', 'Created Date', 'Closed Date', 'Agency', 'Agency Name',\n",
       "       'Complaint Type', 'Descriptor', 'Location Type', 'Incident Zip',\n",
       "       'Incident Address', 'Street Name', 'Cross Street 1', 'Cross Street 2',\n",
       "       'Intersection Street 1', 'Intersection Street 2', 'Address Type',\n",
       "       'City', 'Landmark', 'Facility Type', 'Status', 'Due Date',\n",
       "       'Resolution Description', 'Resolution Action Updated Date',\n",
       "       'Community Board', 'Borough', 'X Coordinate (State Plane)',\n",
       "       'Y Coordinate (State Plane)', 'Park Facility Name', 'Park Borough',\n",
       "       'School Name', 'School Number', 'School Region', 'School Code',\n",
       "       'School Phone Number', 'School Address', 'School City', 'School State',\n",
       "       'School Zip', 'School Not Found', 'Bridge Highway Name',\n",
       "       'Bridge Highway Direction', 'Road Ramp', 'Bridge Highway Segment',\n",
       "       'Ferry Direction', 'Ferry Terminal Name', 'Latitude', 'Longitude',\n",
       "       'Location', 'Due_Date', 'Request closing Time'],\n",
       "      dtype='object')"
      ]
     },
     "execution_count": 13,
     "metadata": {},
     "output_type": "execute_result"
    }
   ],
   "source": [
    "csr_df1.columns"
   ]
  },
  {
   "cell_type": "markdown",
   "id": "fa9a47ae",
   "metadata": {},
   "source": [
    "## 7.Find major complaint type"
   ]
  },
  {
   "cell_type": "code",
   "execution_count": 15,
   "id": "1697930d",
   "metadata": {},
   "outputs": [],
   "source": [
    "major_comp=csr_df1.loc[:,['Complaint Type']]"
   ]
  },
  {
   "cell_type": "code",
   "execution_count": 16,
   "id": "54cb19ee",
   "metadata": {},
   "outputs": [
    {
     "data": {
      "text/html": [
       "<div>\n",
       "<style scoped>\n",
       "    .dataframe tbody tr th:only-of-type {\n",
       "        vertical-align: middle;\n",
       "    }\n",
       "\n",
       "    .dataframe tbody tr th {\n",
       "        vertical-align: top;\n",
       "    }\n",
       "\n",
       "    .dataframe thead th {\n",
       "        text-align: right;\n",
       "    }\n",
       "</style>\n",
       "<table border=\"1\" class=\"dataframe\">\n",
       "  <thead>\n",
       "    <tr style=\"text-align: right;\">\n",
       "      <th></th>\n",
       "      <th>Complaint Type</th>\n",
       "    </tr>\n",
       "  </thead>\n",
       "  <tbody>\n",
       "    <tr>\n",
       "      <th>0</th>\n",
       "      <td>Noise - Street/Sidewalk</td>\n",
       "    </tr>\n",
       "    <tr>\n",
       "      <th>1</th>\n",
       "      <td>Blocked Driveway</td>\n",
       "    </tr>\n",
       "    <tr>\n",
       "      <th>2</th>\n",
       "      <td>Blocked Driveway</td>\n",
       "    </tr>\n",
       "    <tr>\n",
       "      <th>3</th>\n",
       "      <td>Illegal Parking</td>\n",
       "    </tr>\n",
       "    <tr>\n",
       "      <th>4</th>\n",
       "      <td>Illegal Parking</td>\n",
       "    </tr>\n",
       "    <tr>\n",
       "      <th>...</th>\n",
       "      <td>...</td>\n",
       "    </tr>\n",
       "    <tr>\n",
       "      <th>300693</th>\n",
       "      <td>Noise - Commercial</td>\n",
       "    </tr>\n",
       "    <tr>\n",
       "      <th>300694</th>\n",
       "      <td>Blocked Driveway</td>\n",
       "    </tr>\n",
       "    <tr>\n",
       "      <th>300695</th>\n",
       "      <td>Noise - Commercial</td>\n",
       "    </tr>\n",
       "    <tr>\n",
       "      <th>300696</th>\n",
       "      <td>Noise - Commercial</td>\n",
       "    </tr>\n",
       "    <tr>\n",
       "      <th>300697</th>\n",
       "      <td>Noise - Commercial</td>\n",
       "    </tr>\n",
       "  </tbody>\n",
       "</table>\n",
       "<p>300698 rows × 1 columns</p>\n",
       "</div>"
      ],
      "text/plain": [
       "                 Complaint Type\n",
       "0       Noise - Street/Sidewalk\n",
       "1              Blocked Driveway\n",
       "2              Blocked Driveway\n",
       "3               Illegal Parking\n",
       "4               Illegal Parking\n",
       "...                         ...\n",
       "300693       Noise - Commercial\n",
       "300694         Blocked Driveway\n",
       "300695       Noise - Commercial\n",
       "300696       Noise - Commercial\n",
       "300697       Noise - Commercial\n",
       "\n",
       "[300698 rows x 1 columns]"
      ]
     },
     "execution_count": 16,
     "metadata": {},
     "output_type": "execute_result"
    }
   ],
   "source": [
    "major_comp"
   ]
  },
  {
   "cell_type": "code",
   "execution_count": 51,
   "id": "6be3cdf8",
   "metadata": {},
   "outputs": [
    {
     "data": {
      "text/plain": [
       "array(['Noise - Street/Sidewalk', 'Blocked Driveway', 'Illegal Parking',\n",
       "       'Derelict Vehicle', 'Noise - Commercial',\n",
       "       'Noise - House of Worship', 'Posting Advertisement',\n",
       "       'Noise - Vehicle', 'Animal Abuse', 'Vending', 'Traffic',\n",
       "       'Drinking', 'Bike/Roller/Skate Chronic', 'Panhandling',\n",
       "       'Noise - Park', 'Homeless Encampment', 'Urinating in Public',\n",
       "       'Graffiti', 'Disorderly Youth', 'Illegal Fireworks',\n",
       "       'Ferry Complaint', 'Agency Issues', 'Squeegee', 'Animal in a Park'],\n",
       "      dtype=object)"
      ]
     },
     "execution_count": 51,
     "metadata": {},
     "output_type": "execute_result"
    }
   ],
   "source": [
    "major_comp['Complaint Type'].unique()"
   ]
  },
  {
   "cell_type": "code",
   "execution_count": 17,
   "id": "2e6b700c",
   "metadata": {},
   "outputs": [
    {
     "data": {
      "text/plain": [
       "Complaint Type    24\n",
       "dtype: int64"
      ]
     },
     "execution_count": 17,
     "metadata": {},
     "output_type": "execute_result"
    }
   ],
   "source": [
    "major_comp.nunique()"
   ]
  },
  {
   "cell_type": "markdown",
   "id": "687d69c3",
   "metadata": {},
   "source": [
    "## 8.Plot the bar graph of count vs. compaint type"
   ]
  },
  {
   "cell_type": "code",
   "execution_count": 18,
   "id": "c2616493",
   "metadata": {},
   "outputs": [],
   "source": [
    "major_comp_count=major_comp.value_counts()"
   ]
  },
  {
   "cell_type": "code",
   "execution_count": 20,
   "id": "31e26186",
   "metadata": {},
   "outputs": [
    {
     "data": {
      "text/plain": [
       "Complaint Type           \n",
       "Blocked Driveway             77044\n",
       "Illegal Parking              75361\n",
       "Noise - Street/Sidewalk      48612\n",
       "Noise - Commercial           35577\n",
       "Derelict Vehicle             17718\n",
       "Noise - Vehicle              17083\n",
       "Animal Abuse                  7778\n",
       "Traffic                       4498\n",
       "Homeless Encampment           4416\n",
       "Noise - Park                  4042\n",
       "Vending                       3802\n",
       "Drinking                      1280\n",
       "Noise - House of Worship       931\n",
       "Posting Advertisement          650\n",
       "Urinating in Public            592\n",
       "Bike/Roller/Skate Chronic      427\n",
       "Panhandling                    307\n",
       "Disorderly Youth               286\n",
       "Illegal Fireworks              168\n",
       "Graffiti                       113\n",
       "Agency Issues                    6\n",
       "Squeegee                         4\n",
       "Ferry Complaint                  2\n",
       "Animal in a Park                 1\n",
       "dtype: int64"
      ]
     },
     "execution_count": 20,
     "metadata": {},
     "output_type": "execute_result"
    }
   ],
   "source": [
    "major_comp_count"
   ]
  },
  {
   "cell_type": "code",
   "execution_count": 19,
   "id": "172e4e95",
   "metadata": {},
   "outputs": [
    {
     "data": {
      "text/plain": [
       "<AxesSubplot:title={'center':'Count Vs. Complaint Types'}, xlabel='Complaint Type'>"
      ]
     },
     "execution_count": 19,
     "metadata": {},
     "output_type": "execute_result"
    },
    {
     "data": {
      "image/png": "[encoded data removed]",
      "text/plain": [
       "<Figure size 432x288 with 1 Axes>"
      ]
     },
     "metadata": {
      "needs_background": "light"
     },
     "output_type": "display_data"
    }
   ],
   "source": [
    "major_comp_count.plot(kind='bar',title='Count Vs. Complaint Types')"
   ]
  },
  {
   "cell_type": "markdown",
   "id": "351196f7",
   "metadata": {},
   "source": [
    "### ### Major complaint type are blocked driveway"
   ]
  },
  {
   "cell_type": "markdown",
   "id": "bdc9eed6",
   "metadata": {},
   "source": [
    "## 9.Plot the bar graph showing top 10 complaint type"
   ]
  },
  {
   "cell_type": "code",
   "execution_count": 21,
   "id": "d85fd34d",
   "metadata": {},
   "outputs": [
    {
     "data": {
      "text/plain": [
       "Complaint Type         \n",
       "Blocked Driveway           77044\n",
       "Illegal Parking            75361\n",
       "Noise - Street/Sidewalk    48612\n",
       "Noise - Commercial         35577\n",
       "Derelict Vehicle           17718\n",
       "Noise - Vehicle            17083\n",
       "Animal Abuse                7778\n",
       "Traffic                     4498\n",
       "Homeless Encampment         4416\n",
       "Noise - Park                4042\n",
       "dtype: int64"
      ]
     },
     "execution_count": 21,
     "metadata": {},
     "output_type": "execute_result"
    }
   ],
   "source": [
    "major_comp_count.head(10)"
   ]
  },
  {
   "cell_type": "code",
   "execution_count": 22,
   "id": "37552f3a",
   "metadata": {},
   "outputs": [
    {
     "data": {
      "text/plain": [
       "<AxesSubplot:title={'center':'The major complaint types and their count'}, xlabel='Complaint Type'>"
      ]
     },
     "execution_count": 22,
     "metadata": {},
     "output_type": "execute_result"
    },
    {
     "data": {
      "image/png": "[encoded data removed]",
      "text/plain": [
       "<Figure size 432x288 with 1 Axes>"
      ]
     },
     "metadata": {
      "needs_background": "light"
     },
     "output_type": "display_data"
    }
   ],
   "source": [
    "major_comp_count.head(10).plot(kind='bar',title='The major complaint types and their count')"
   ]
  },
  {
   "cell_type": "code",
   "execution_count": 52,
   "id": "448f129d",
   "metadata": {},
   "outputs": [
    {
     "data": {
      "text/html": [
       "<div>\n",
       "<style scoped>\n",
       "    .dataframe tbody tr th:only-of-type {\n",
       "        vertical-align: middle;\n",
       "    }\n",
       "\n",
       "    .dataframe tbody tr th {\n",
       "        vertical-align: top;\n",
       "    }\n",
       "\n",
       "    .dataframe thead th {\n",
       "        text-align: right;\n",
       "    }\n",
       "</style>\n",
       "<table border=\"1\" class=\"dataframe\">\n",
       "  <thead>\n",
       "    <tr style=\"text-align: right;\">\n",
       "      <th></th>\n",
       "      <th>Complaint Type</th>\n",
       "      <th>count</th>\n",
       "    </tr>\n",
       "  </thead>\n",
       "  <tbody>\n",
       "    <tr>\n",
       "      <th>0</th>\n",
       "      <td>Blocked Driveway</td>\n",
       "      <td>77044</td>\n",
       "    </tr>\n",
       "    <tr>\n",
       "      <th>1</th>\n",
       "      <td>Illegal Parking</td>\n",
       "      <td>75361</td>\n",
       "    </tr>\n",
       "    <tr>\n",
       "      <th>2</th>\n",
       "      <td>Noise - Street/Sidewalk</td>\n",
       "      <td>48612</td>\n",
       "    </tr>\n",
       "    <tr>\n",
       "      <th>3</th>\n",
       "      <td>Noise - Commercial</td>\n",
       "      <td>35577</td>\n",
       "    </tr>\n",
       "    <tr>\n",
       "      <th>4</th>\n",
       "      <td>Derelict Vehicle</td>\n",
       "      <td>17718</td>\n",
       "    </tr>\n",
       "  </tbody>\n",
       "</table>\n",
       "</div>"
      ],
      "text/plain": [
       "            Complaint Type  count\n",
       "0         Blocked Driveway  77044\n",
       "1          Illegal Parking  75361\n",
       "2  Noise - Street/Sidewalk  48612\n",
       "3       Noise - Commercial  35577\n",
       "4         Derelict Vehicle  17718"
      ]
     },
     "execution_count": 52,
     "metadata": {},
     "output_type": "execute_result"
    }
   ],
   "source": [
    "majorcomplints=csr_df1.dropna(subset=[\"Complaint Type\"])\n",
    "majorcomplints=csr_df1.groupby(\"Complaint Type\")\n",
    "\n",
    "sortedComplaintType = majorcomplints.size().sort_values(ascending = False)\n",
    "sortedComplaintType = sortedComplaintType.to_frame('count').reset_index()\n",
    "\n",
    "sortedComplaintType\n",
    "sortedComplaintType.head(5)"
   ]
  },
  {
   "cell_type": "code",
   "execution_count": 39,
   "id": "13bd0081",
   "metadata": {},
   "outputs": [
    {
     "data": {
      "image/png": "[encoded data removed]",
      "text/plain": [
       "<Figure size 360x360 with 1 Axes>"
      ]
     },
     "metadata": {},
     "output_type": "display_data"
    }
   ],
   "source": [
    "sortedComplaintType = sortedComplaintType.head()\n",
    "plt.figure(figsize=(5,5))\n",
    "plt.pie(sortedComplaintType['count'],labels=sortedComplaintType[\"Complaint Type\"], autopct=\"%1.1f%%\")\n",
    "plt.show()"
   ]
  },
  {
   "cell_type": "markdown",
   "id": "d667b91b",
   "metadata": {},
   "source": [
    "## 8.Analysing number of compaint types and its city of occurence "
   ]
  },
  {
   "cell_type": "code",
   "execution_count": 23,
   "id": "4890578e",
   "metadata": {},
   "outputs": [],
   "source": [
    "compainttype_city=pd.DataFrame({'count':csr_df1.groupby(['Complaint Type','City']).size()}).reset_index()"
   ]
  },
  {
   "cell_type": "code",
   "execution_count": 24,
   "id": "d2487e78",
   "metadata": {},
   "outputs": [
    {
     "data": {
      "text/html": [
       "<div>\n",
       "<style scoped>\n",
       "    .dataframe tbody tr th:only-of-type {\n",
       "        vertical-align: middle;\n",
       "    }\n",
       "\n",
       "    .dataframe tbody tr th {\n",
       "        vertical-align: top;\n",
       "    }\n",
       "\n",
       "    .dataframe thead th {\n",
       "        text-align: right;\n",
       "    }\n",
       "</style>\n",
       "<table border=\"1\" class=\"dataframe\">\n",
       "  <thead>\n",
       "    <tr style=\"text-align: right;\">\n",
       "      <th></th>\n",
       "      <th>Complaint Type</th>\n",
       "      <th>City</th>\n",
       "      <th>count</th>\n",
       "    </tr>\n",
       "  </thead>\n",
       "  <tbody>\n",
       "    <tr>\n",
       "      <th>0</th>\n",
       "      <td>Animal Abuse</td>\n",
       "      <td>ARVERNE</td>\n",
       "      <td>38</td>\n",
       "    </tr>\n",
       "    <tr>\n",
       "      <th>1</th>\n",
       "      <td>Animal Abuse</td>\n",
       "      <td>ASTORIA</td>\n",
       "      <td>125</td>\n",
       "    </tr>\n",
       "    <tr>\n",
       "      <th>2</th>\n",
       "      <td>Animal Abuse</td>\n",
       "      <td>BAYSIDE</td>\n",
       "      <td>37</td>\n",
       "    </tr>\n",
       "    <tr>\n",
       "      <th>3</th>\n",
       "      <td>Animal Abuse</td>\n",
       "      <td>BELLEROSE</td>\n",
       "      <td>7</td>\n",
       "    </tr>\n",
       "    <tr>\n",
       "      <th>4</th>\n",
       "      <td>Animal Abuse</td>\n",
       "      <td>BREEZY POINT</td>\n",
       "      <td>2</td>\n",
       "    </tr>\n",
       "    <tr>\n",
       "      <th>...</th>\n",
       "      <td>...</td>\n",
       "      <td>...</td>\n",
       "      <td>...</td>\n",
       "    </tr>\n",
       "    <tr>\n",
       "      <th>759</th>\n",
       "      <td>Vending</td>\n",
       "      <td>STATEN ISLAND</td>\n",
       "      <td>25</td>\n",
       "    </tr>\n",
       "    <tr>\n",
       "      <th>760</th>\n",
       "      <td>Vending</td>\n",
       "      <td>SUNNYSIDE</td>\n",
       "      <td>15</td>\n",
       "    </tr>\n",
       "    <tr>\n",
       "      <th>761</th>\n",
       "      <td>Vending</td>\n",
       "      <td>WHITESTONE</td>\n",
       "      <td>1</td>\n",
       "    </tr>\n",
       "    <tr>\n",
       "      <th>762</th>\n",
       "      <td>Vending</td>\n",
       "      <td>WOODHAVEN</td>\n",
       "      <td>6</td>\n",
       "    </tr>\n",
       "    <tr>\n",
       "      <th>763</th>\n",
       "      <td>Vending</td>\n",
       "      <td>WOODSIDE</td>\n",
       "      <td>15</td>\n",
       "    </tr>\n",
       "  </tbody>\n",
       "</table>\n",
       "<p>764 rows × 3 columns</p>\n",
       "</div>"
      ],
      "text/plain": [
       "    Complaint Type           City  count\n",
       "0     Animal Abuse        ARVERNE     38\n",
       "1     Animal Abuse        ASTORIA    125\n",
       "2     Animal Abuse        BAYSIDE     37\n",
       "3     Animal Abuse      BELLEROSE      7\n",
       "4     Animal Abuse   BREEZY POINT      2\n",
       "..             ...            ...    ...\n",
       "759        Vending  STATEN ISLAND     25\n",
       "760        Vending      SUNNYSIDE     15\n",
       "761        Vending     WHITESTONE      1\n",
       "762        Vending      WOODHAVEN      6\n",
       "763        Vending       WOODSIDE     15\n",
       "\n",
       "[764 rows x 3 columns]"
      ]
     },
     "execution_count": 24,
     "metadata": {},
     "output_type": "execute_result"
    }
   ],
   "source": [
    "compainttype_city"
   ]
  },
  {
   "cell_type": "code",
   "execution_count": 25,
   "id": "36d22bf9",
   "metadata": {},
   "outputs": [
    {
     "data": {
      "text/plain": [
       "Borough      Complaint Type         Descriptor               \n",
       "BRONX        Animal Abuse           Chained                      132\n",
       "                                    In Car                        36\n",
       "                                    Neglected                    673\n",
       "                                    No Shelter                    71\n",
       "                                    Other (complaint details)    311\n",
       "                                                                ... \n",
       "Unspecified  Noise - Vehicle        Engine Idling                 11\n",
       "             Posting Advertisement  Vehicle                        1\n",
       "             Traffic                Truck Route Violation          1\n",
       "             Vending                In Prohibited Area             2\n",
       "                                    Unlicensed                     5\n",
       "Length: 288, dtype: int64"
      ]
     },
     "execution_count": 25,
     "metadata": {},
     "output_type": "execute_result"
    }
   ],
   "source": [
    "csr_df1.groupby(['Borough','Complaint Type','Descriptor']).size()"
   ]
  },
  {
   "cell_type": "code",
   "execution_count": 48,
   "id": "233d73bb",
   "metadata": {},
   "outputs": [
    {
     "data": {
      "image/png": "[encoded data removed]",
      "text/plain": [
       "<Figure size 1440x504 with 1 Axes>"
      ]
     },
     "metadata": {
      "needs_background": "light"
     },
     "output_type": "display_data"
    }
   ],
   "source": [
    "csr_df1['Borough'].value_counts().plot(kind='bar',alpha=0.6,figsize=(20,7))\n",
    "plt.show()"
   ]
  },
  {
   "cell_type": "markdown",
   "id": "d0a479bb",
   "metadata": {},
   "source": [
    "## 9.Group dataset by complaint type to display plot against city"
   ]
  },
  {
   "cell_type": "code",
   "execution_count": 26,
   "id": "197854f4",
   "metadata": {},
   "outputs": [],
   "source": [
    "groupby_complainttype=csr_df1.groupby('Complaint Type')"
   ]
  },
  {
   "cell_type": "code",
   "execution_count": 27,
   "id": "6b2e181b",
   "metadata": {},
   "outputs": [],
   "source": [
    "grp_data=groupby_complainttype.get_group('Blocked Driveway')"
   ]
  },
  {
   "cell_type": "code",
   "execution_count": 28,
   "id": "c7e3c776",
   "metadata": {},
   "outputs": [
    {
     "data": {
      "text/plain": [
       "(77044, 50)"
      ]
     },
     "execution_count": 28,
     "metadata": {},
     "output_type": "execute_result"
    }
   ],
   "source": [
    "grp_data.shape"
   ]
  },
  {
   "cell_type": "code",
   "execution_count": 29,
   "id": "7a2d508c",
   "metadata": {},
   "outputs": [
    {
     "data": {
      "text/plain": [
       "(300698,)"
      ]
     },
     "execution_count": 29,
     "metadata": {},
     "output_type": "execute_result"
    }
   ],
   "source": [
    "csr_df1['City'].shape"
   ]
  },
  {
   "cell_type": "code",
   "execution_count": 30,
   "id": "c5454bbf",
   "metadata": {},
   "outputs": [
    {
     "data": {
      "text/plain": [
       "Unique Key                             0\n",
       "Created Date                           0\n",
       "Closed Date                         2164\n",
       "Agency                                 0\n",
       "Agency Name                            0\n",
       "Complaint Type                         0\n",
       "Descriptor                          5914\n",
       "Location Type                        131\n",
       "Incident Zip                        2615\n",
       "Incident Address                   44410\n",
       "Street Name                        44410\n",
       "Cross Street 1                     49279\n",
       "Cross Street 2                     49779\n",
       "Intersection Street 1             256840\n",
       "Intersection Street 2             257336\n",
       "Address Type                        2815\n",
       "City                                2614\n",
       "Landmark                          300349\n",
       "Facility Type                       2171\n",
       "Status                                 0\n",
       "Due Date                               3\n",
       "Resolution Description                 0\n",
       "Resolution Action Updated Date      2187\n",
       "Community Board                        0\n",
       "Borough                                0\n",
       "X Coordinate (State Plane)          3540\n",
       "Y Coordinate (State Plane)          3540\n",
       "Park Facility Name                     0\n",
       "Park Borough                           0\n",
       "School Name                            0\n",
       "School Number                          0\n",
       "School Region                          1\n",
       "School Code                            1\n",
       "School Phone Number                    0\n",
       "School Address                         0\n",
       "School City                            0\n",
       "School State                           0\n",
       "School Zip                             1\n",
       "School Not Found                       0\n",
       "Bridge Highway Name               300455\n",
       "Bridge Highway Direction          300455\n",
       "Road Ramp                         300485\n",
       "Bridge Highway Segment            300485\n",
       "Ferry Direction                   300697\n",
       "Ferry Terminal Name               300696\n",
       "Latitude                            3540\n",
       "Longitude                           3540\n",
       "Location                            3540\n",
       "Due_Date                               3\n",
       "Request closing Time                2164\n",
       "dtype: int64"
      ]
     },
     "execution_count": 30,
     "metadata": {},
     "output_type": "execute_result"
    }
   ],
   "source": [
    "csr_df1.isnull().sum()"
   ]
  },
  {
   "cell_type": "code",
   "execution_count": 31,
   "id": "2fc3d7a5",
   "metadata": {},
   "outputs": [],
   "source": [
    "# Fix blank balue in city column"
   ]
  },
  {
   "cell_type": "code",
   "execution_count": 32,
   "id": "9892d5c7",
   "metadata": {},
   "outputs": [],
   "source": [
    "csr_df1['City'].dropna(inplace=True)"
   ]
  },
  {
   "cell_type": "code",
   "execution_count": 33,
   "id": "3d084801",
   "metadata": {},
   "outputs": [
    {
     "data": {
      "text/plain": [
       "(300698,)"
      ]
     },
     "execution_count": 33,
     "metadata": {},
     "output_type": "execute_result"
    }
   ],
   "source": [
    "# Shape after dropping nan value\n",
    "csr_df1['City'].shape"
   ]
  },
  {
   "cell_type": "code",
   "execution_count": 35,
   "id": "605cc7c2",
   "metadata": {},
   "outputs": [
    {
     "data": {
      "text/plain": [
       "283"
      ]
     },
     "execution_count": 35,
     "metadata": {},
     "output_type": "execute_result"
    }
   ],
   "source": [
    "#count of null values in grouped city column data\n",
    "grp_data['City'].isnull().sum()"
   ]
  },
  {
   "cell_type": "code",
   "execution_count": 36,
   "id": "d6a63fd0",
   "metadata": {},
   "outputs": [
    {
     "name": "stderr",
     "output_type": "stream",
     "text": [
      "C:\\Users\\hp\\anaconda3\\lib\\site-packages\\pandas\\core\\series.py:4463: SettingWithCopyWarning: \n",
      "A value is trying to be set on a copy of a slice from a DataFrame\n",
      "\n",
      "See the caveats in the documentation: https://pandas.pydata.org/pandas-docs/stable/user_guide/indexing.html#returning-a-view-versus-a-copy\n",
      "  return super().fillna(\n"
     ]
    }
   ],
   "source": [
    "#fix those NAN with \"unknown city\" value instead\n",
    "grp_data['City'].fillna('Unknown City', inplace =True)"
   ]
  },
  {
   "cell_type": "code",
   "execution_count": 50,
   "id": "295703b8",
   "metadata": {},
   "outputs": [
    {
     "data": {
      "image/png": "[encoded data removed]",
      "text/plain": [
       "<Figure size 1440x504 with 1 Axes>"
      ]
     },
     "metadata": {
      "needs_background": "light"
     },
     "output_type": "display_data"
    }
   ],
   "source": [
    "grp_data['City'].value_counts().plot(kind='bar',alpha=0.6,figsize=(20,7))\n",
    "plt.show()"
   ]
  },
  {
   "cell_type": "code",
   "execution_count": 37,
   "id": "86214d7f",
   "metadata": {},
   "outputs": [
    {
     "data": {
      "image/png": "[encoded data removed]",
      "text/plain": [
       "<Figure size 1440x1080 with 1 Axes>"
      ]
     },
     "metadata": {
      "needs_background": "light"
     },
     "output_type": "display_data"
    }
   ],
   "source": [
    "#Scatter plot displaying all the cities that raised complaint of type 'Blocked Driveway'\n",
    "plt.figure(figsize=(20, 15))\n",
    "plt.scatter(grp_data['Complaint Type'],grp_data['City'])\n",
    "plt.title('Plot showing list of cities that raised complaint of type Blocked Driveway')\n",
    "plt.show()"
   ]
  },
  {
   "cell_type": "markdown",
   "id": "86d4e3d9",
   "metadata": {},
   "source": [
    "## 11.Status of ticket"
   ]
  },
  {
   "cell_type": "code",
   "execution_count": 43,
   "id": "6c7e38bf",
   "metadata": {},
   "outputs": [
    {
     "data": {
      "image/png": "[encoded data removed]",
      "text/plain": [
       "<Figure size 504x504 with 1 Axes>"
      ]
     },
     "metadata": {
      "needs_background": "light"
     },
     "output_type": "display_data"
    }
   ],
   "source": [
    "csr_df1['Status'].value_counts().plot(kind='bar',alpha=0.6,figsize=(7,7))\n",
    "plt.show()"
   ]
  }
 ],
 "metadata": {
  "kernelspec": {
   "display_name": "Python 3",
   "language": "python",
   "name": "python3"
  },
  "language_info": {
   "codemirror_mode": {
    "name": "ipython",
    "version": 3
   },
   "file_extension": ".py",
   "mimetype": "text/x-python",
   "name": "python",
   "nbconvert_exporter": "python",
   "pygments_lexer": "ipython3",
   "version": "3.8.8"
  }
 },
 "nbformat": 4,
 "nbformat_minor": 5
}
